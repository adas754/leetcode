{
  "nbformat": 4,
  "nbformat_minor": 0,
  "metadata": {
    "colab": {
      "provenance": [],
      "authorship_tag": "ABX9TyPIvJfZDo0JKOzwVKOP8S7r",
      "include_colab_link": true
    },
    "kernelspec": {
      "name": "python3",
      "display_name": "Python 3"
    },
    "language_info": {
      "name": "python"
    }
  },
  "cells": [
    {
      "cell_type": "markdown",
      "metadata": {
        "id": "view-in-github",
        "colab_type": "text"
      },
      "source": [
        "<a href=\"https://colab.research.google.com/github/adas754/leetcode/blob/main/leetcode.ipynb\" target=\"_parent\"><img src=\"https://colab.research.google.com/assets/colab-badge.svg\" alt=\"Open In Colab\"/></a>"
      ]
    },
    {
      "cell_type": "markdown",
      "source": [
        "**1. Two Sum (#1)**"
      ],
      "metadata": {
        "id": "bFvt-fRn2QJR"
      }
    },
    {
      "cell_type": "code",
      "source": [
        "class Solution:\n",
        "    def twoSum(self, nums: List[int], target: int) -> List[int]:\n",
        "        for i in range(len(nums)):\n",
        "            for j in range(i+1,len(nums)):\n",
        "                if(i!=j and nums[i]+nums[j]==target):\n",
        "                    return[i,j]\n",
        "        return []"
      ],
      "metadata": {
        "id": "fe7r-oOe3eaR"
      },
      "execution_count": null,
      "outputs": []
    },
    {
      "cell_type": "markdown",
      "source": [
        "**2. Palindrome Number (#9)**"
      ],
      "metadata": {
        "id": "9G-5qFfo5w1V"
      }
    },
    {
      "cell_type": "code",
      "source": [
        "class Solution:\n",
        "    def isPalindrome(self, x: int) -> bool:\n",
        "        x=str(x)\n",
        "        return x==x[::-1]"
      ],
      "metadata": {
        "id": "QFySPm9Y5yx5"
      },
      "execution_count": null,
      "outputs": []
    },
    {
      "cell_type": "markdown",
      "source": [
        "**3. Roman to Integer (#13)**"
      ],
      "metadata": {
        "id": "RI28MRRg7Kgb"
      }
    },
    {
      "cell_type": "code",
      "source": [
        "class Solution:\n",
        "    def romanToInt(self, s: str) -> int:\n",
        "        roman_to_int = {\n",
        "            'I': 1,\n",
        "            'V': 5,\n",
        "            'X': 10,\n",
        "            'L': 50,\n",
        "            'C': 100,\n",
        "            'D': 500,\n",
        "            'M': 1000\n",
        "        }\n",
        "        total=0\n",
        "        prev_val=0\n",
        "        for char in s:\n",
        "            value=roman_to_int[char]\n",
        "            if prev_val <value:\n",
        "                total+=value-2*prev_val\n",
        "            else:\n",
        "                total+=value\n",
        "            prev_val=value\n",
        "        return total\n",
        ""
      ],
      "metadata": {
        "id": "oVgILvJj7NVl"
      },
      "execution_count": null,
      "outputs": []
    },
    {
      "cell_type": "markdown",
      "source": [
        "**4. Merge Sorted Array (#88)**"
      ],
      "metadata": {
        "id": "81JifM2i9Wgk"
      }
    },
    {
      "cell_type": "code",
      "source": [
        "class Solution:\n",
        "    def merge(self, nums1: List[int], m: int, nums2: List[int], n: int) -> None:\n",
        "        i=m-1\n",
        "        j=n-1\n",
        "        k=m+n-1\n",
        "        while j>=0:\n",
        "            if i>=0 and nums1[i]>nums2[j]:\n",
        "                nums1[k]=nums1[i]\n",
        "                k-=1\n",
        "                i-=1\n",
        "            else:\n",
        "                nums1[k]=nums2[j]\n",
        "                k-=1\n",
        "                j-=1\n",
        ""
      ],
      "metadata": {
        "id": "KVIayS229ZH8"
      },
      "execution_count": null,
      "outputs": []
    }
  ]
}