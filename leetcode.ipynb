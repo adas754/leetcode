{
  "nbformat": 4,
  "nbformat_minor": 0,
  "metadata": {
    "colab": {
      "provenance": [],
      "authorship_tag": "ABX9TyNcC4ce1yUghWUns4Dx5EIi",
      "include_colab_link": true
    },
    "kernelspec": {
      "name": "python3",
      "display_name": "Python 3"
    },
    "language_info": {
      "name": "python"
    }
  },
  "cells": [
    {
      "cell_type": "markdown",
      "metadata": {
        "id": "view-in-github",
        "colab_type": "text"
      },
      "source": [
        "<a href=\"https://colab.research.google.com/github/adas754/leetcode/blob/main/leetcode.ipynb\" target=\"_parent\"><img src=\"https://colab.research.google.com/assets/colab-badge.svg\" alt=\"Open In Colab\"/></a>"
      ]
    },
    {
      "cell_type": "markdown",
      "source": [
        "**1. Two Sum (#1)**"
      ],
      "metadata": {
        "id": "bFvt-fRn2QJR"
      }
    },
    {
      "cell_type": "code",
      "source": [
        "class Solution:\n",
        "    def twoSum(self, nums: List[int], target: int) -> List[int]:\n",
        "        for i in range(len(nums)):\n",
        "            for j in range(i+1,len(nums)):\n",
        "                if(i!=j and nums[i]+nums[j]==target):\n",
        "                    return[i,j]\n",
        "        return []"
      ],
      "metadata": {
        "id": "fe7r-oOe3eaR"
      },
      "execution_count": null,
      "outputs": []
    },
    {
      "cell_type": "markdown",
      "source": [
        "**2. Palindrome Number (#9)**"
      ],
      "metadata": {
        "id": "9G-5qFfo5w1V"
      }
    },
    {
      "cell_type": "code",
      "source": [
        "class Solution:\n",
        "    def isPalindrome(self, x: int) -> bool:\n",
        "        x=str(x)\n",
        "        return x==x[::-1]"
      ],
      "metadata": {
        "id": "QFySPm9Y5yx5"
      },
      "execution_count": null,
      "outputs": []
    }
  ]
}