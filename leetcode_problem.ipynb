{
  "nbformat": 4,
  "nbformat_minor": 0,
  "metadata": {
    "colab": {
      "provenance": [],
      "authorship_tag": "ABX9TyPNFQOQI2mGBOB96ZKTdEje",
      "include_colab_link": true
    },
    "kernelspec": {
      "name": "python3",
      "display_name": "Python 3"
    },
    "language_info": {
      "name": "python"
    }
  },
  "cells": [
    {
      "cell_type": "markdown",
      "metadata": {
        "id": "view-in-github",
        "colab_type": "text"
      },
      "source": [
        "<a href=\"https://colab.research.google.com/github/adas754/leetcode/blob/main/leetcode_problem.ipynb\" target=\"_parent\"><img src=\"https://colab.research.google.com/assets/colab-badge.svg\" alt=\"Open In Colab\"/></a>"
      ]
    },
    {
      "cell_type": "markdown",
      "source": [
        "# 1. Two Sum (#1)"
      ],
      "metadata": {
        "id": "S09ccmJSGxZ0"
      }
    },
    {
      "cell_type": "code",
      "execution_count": null,
      "metadata": {
        "colab": {
          "base_uri": "https://localhost:8080/"
        },
        "id": "MSn9VqKmGekc",
        "outputId": "3640eaac-ae18-443f-eec7-fabf01624010"
      },
      "outputs": [
        {
          "output_type": "execute_result",
          "data": {
            "text/plain": [
              "[0, 1]"
            ]
          },
          "metadata": {},
          "execution_count": 3
        }
      ],
      "source": [
        "def two_sum(nums,target):\n",
        "  for i in range(len(nums)):\n",
        "    for j in range(i+1,len(nums)):\n",
        "      if(i!=j and nums[i]+nums[j]==target):\n",
        "        return [i,j]\n",
        "nums = [3,3]\n",
        "target = 6\n",
        "two_sum(nums,target)"
      ]
    },
    {
      "cell_type": "markdown",
      "source": [
        "# 2. Palindrome Number (#9)"
      ],
      "metadata": {
        "id": "4dYXognMIxKj"
      }
    },
    {
      "cell_type": "code",
      "source": [
        "def is_palin(x):\n",
        "  x=str(x)\n",
        "  return x== x[::-1]\n",
        "is_palin(10)"
      ],
      "metadata": {
        "colab": {
          "base_uri": "https://localhost:8080/"
        },
        "id": "oIxMKsQTINZD",
        "outputId": "39b76a12-3b0b-41ca-fb57-dd8f3b4631fc"
      },
      "execution_count": null,
      "outputs": [
        {
          "output_type": "execute_result",
          "data": {
            "text/plain": [
              "False"
            ]
          },
          "metadata": {},
          "execution_count": 8
        }
      ]
    },
    {
      "cell_type": "markdown",
      "source": [
        "# 3. Roman to Integer (#13)"
      ],
      "metadata": {
        "id": "RYYfDLaaJWgC"
      }
    },
    {
      "cell_type": "code",
      "source": [
        "def roman_to_int(s):\n",
        "    roman_to_int = {'I': 1, 'V': 5, 'X': 10, 'L': 50, 'C': 100, 'D': 500, 'M': 1000}\n",
        "    total = 0\n",
        "    prev = 0\n",
        "\n",
        "    for i in reversed(s):\n",
        "        value = roman_to_int[i]\n",
        "        if value >= prev:\n",
        "            total += value\n",
        "        else:\n",
        "            total -= value\n",
        "        prev = value\n",
        "\n",
        "    return total\n",
        "s = \"LVIII\"\n",
        "print(roman_to_int(s))\n",
        "\n"
      ],
      "metadata": {
        "colab": {
          "base_uri": "https://localhost:8080/"
        },
        "id": "lXBKX6L4JDkW",
        "outputId": "ba371faa-4a63-4977-cbed-fdf8f63e5335"
      },
      "execution_count": null,
      "outputs": [
        {
          "output_type": "stream",
          "name": "stdout",
          "text": [
            "58\n"
          ]
        }
      ]
    },
    {
      "cell_type": "markdown",
      "source": [
        "# 4. Merge Sorted Array (#88)"
      ],
      "metadata": {
        "id": "FgwGxx21t6IJ"
      }
    },
    {
      "cell_type": "code",
      "source": [
        "def merge_sorted(n1, n2, m, n):\n",
        "    del n1[m:]      # Remove the extra zeros\n",
        "    n1.extend(n2)    # Add elements from n2\n",
        "    n1.sort()        # Sort the combined list\n",
        "nums1 = [0]\n",
        "m = 0\n",
        "nums2 = [1]\n",
        "n = 1\n",
        "merge_sorted(nums1, nums2, m, n)\n",
        "print(nums1)\n"
      ],
      "metadata": {
        "id": "CzlNSRfiLer7",
        "colab": {
          "base_uri": "https://localhost:8080/"
        },
        "outputId": "b74295e1-05b9-46d7-e54a-166b40db39ca"
      },
      "execution_count": null,
      "outputs": [
        {
          "output_type": "stream",
          "name": "stdout",
          "text": [
            "[1]\n"
          ]
        }
      ]
    },
    {
      "cell_type": "markdown",
      "source": [
        "# 6. Maximum Subarray (#53)"
      ],
      "metadata": {
        "id": "wbiKbv5KOX2D"
      }
    },
    {
      "cell_type": "code",
      "source": [
        "def max_subarray(num):\n",
        "  mx=current=num[0]\n",
        "  for i in range(1,len(num)):\n",
        "    current=max(num[i],current+num[i])\n",
        "    if current>mx:\n",
        "      mx=current\n",
        "  return mx\n",
        "nums = [5,4,-1,7,8]\n",
        "max_subarray(nums)"
      ],
      "metadata": {
        "colab": {
          "base_uri": "https://localhost:8080/"
        },
        "id": "Xr4lyGgkvGD_",
        "outputId": "52e58835-2658-4349-fc81-e9cba8f00345"
      },
      "execution_count": null,
      "outputs": [
        {
          "output_type": "execute_result",
          "data": {
            "text/plain": [
              "23"
            ]
          },
          "metadata": {},
          "execution_count": 5
        }
      ]
    },
    {
      "cell_type": "markdown",
      "source": [
        "# 7. Plus One"
      ],
      "metadata": {
        "id": "hqtDkmZVhUeO"
      }
    },
    {
      "cell_type": "code",
      "source": [
        "def plus(num):\n",
        "  for i in range(len(num)-1,-1,-1):\n",
        "    if num[i]==9:\n",
        "      num[i]=0\n",
        "    else:\n",
        "      num[i]+=1\n",
        "      return num\n",
        "  return num+[1]\n",
        "digits = [1,2,3]\n",
        "plus(digits)"
      ],
      "metadata": {
        "colab": {
          "base_uri": "https://localhost:8080/"
        },
        "id": "e2ULjDXvdMZ7",
        "outputId": "59f9c448-d6dd-4833-99b7-4119a9c38ccf"
      },
      "execution_count": null,
      "outputs": [
        {
          "output_type": "execute_result",
          "data": {
            "text/plain": [
              "[1, 2, 4]"
            ]
          },
          "metadata": {},
          "execution_count": 11
        }
      ]
    },
    {
      "cell_type": "markdown",
      "source": [
        "# 8. Climbing Stairs (#70)"
      ],
      "metadata": {
        "id": "8NIwd8hBh1QH"
      }
    },
    {
      "cell_type": "code",
      "source": [
        "def climb(n):\n",
        "  if n==1:\n",
        "    return 1\n",
        "  if n==2:\n",
        "    return 2\n",
        "  return climb(n-1)+climb(n-2)\n",
        "  return climb(n)\n",
        "n=2\n",
        "climb(n)"
      ],
      "metadata": {
        "colab": {
          "base_uri": "https://localhost:8080/"
        },
        "id": "j_SrF_6XhFtP",
        "outputId": "c4c6ec6a-5d4e-4991-a8e0-7c3a211b2294"
      },
      "execution_count": 3,
      "outputs": [
        {
          "output_type": "execute_result",
          "data": {
            "text/plain": [
              "2"
            ]
          },
          "metadata": {},
          "execution_count": 3
        }
      ]
    },
    {
      "cell_type": "markdown",
      "source": [
        "# 9. Single Number (#136)"
      ],
      "metadata": {
        "id": "O8ggEtQ-mmAZ"
      }
    },
    {
      "cell_type": "code",
      "source": [
        "def single(num):\n",
        "  a=0\n",
        "  for x in num:\n",
        "    a^=x\n",
        "  return a\n",
        "num=[1,2,1]\n",
        "single(num)"
      ],
      "metadata": {
        "colab": {
          "base_uri": "https://localhost:8080/"
        },
        "id": "FfElCBj2kyZg",
        "outputId": "6b770106-cfbf-4d52-a34c-4435225e4bd3"
      },
      "execution_count": null,
      "outputs": [
        {
          "output_type": "execute_result",
          "data": {
            "text/plain": [
              "2"
            ]
          },
          "metadata": {},
          "execution_count": 16
        }
      ]
    },
    {
      "cell_type": "markdown",
      "source": [
        "# 10. Check if Word Equals Summation of Two Words (#1880)"
      ],
      "metadata": {
        "id": "HR-yKAJ8efpo"
      }
    },
    {
      "cell_type": "code",
      "source": [
        "def isequal(first,second,target):\n",
        "  x=['a','b','c','d','e','f','g','h','i','j','k','l','m','n','o','p','q','r','s','t','u','v','w','x','y','z']\n",
        "  a=''\n",
        "  for i in first:\n",
        "    a+=str(x.index(i))\n",
        "  b=''\n",
        "  for i in second:\n",
        "    b=b+str(x.index(i))\n",
        "  c=''\n",
        "  for i in target:\n",
        "    c=c+str(x.index(i))\n",
        "  if int(a)+int(b)==int(c):\n",
        "    return True\n",
        "  return False\n",
        "firstWord = \"aaa\"\n",
        "secondWord = \"a\"\n",
        "targetWord = \"aab\"\n",
        "isequal(firstWord,secondWord,targetWord)"
      ],
      "metadata": {
        "id": "XJ35jPD0m5GN",
        "colab": {
          "base_uri": "https://localhost:8080/"
        },
        "outputId": "ada6780c-ae6a-4464-bbe4-9420075bff06"
      },
      "execution_count": 6,
      "outputs": [
        {
          "output_type": "execute_result",
          "data": {
            "text/plain": [
              "False"
            ]
          },
          "metadata": {},
          "execution_count": 6
        }
      ]
    },
    {
      "cell_type": "markdown",
      "source": [
        "# 11. Build Array from Permutation(#1920)"
      ],
      "metadata": {
        "id": "yDXb3B7Zjt-a"
      }
    },
    {
      "cell_type": "code",
      "source": [
        "def buildarray(nums):\n",
        "  return [nums[i]for i in nums]\n",
        "nums = [5,0,1,2,3,4]\n",
        "buildarray(nums)"
      ],
      "metadata": {
        "colab": {
          "base_uri": "https://localhost:8080/"
        },
        "id": "bMedkXq6gl0N",
        "outputId": "cea5c5cd-a7b9-41a3-e875-1d6b1065add2"
      },
      "execution_count": 8,
      "outputs": [
        {
          "output_type": "execute_result",
          "data": {
            "text/plain": [
              "[4, 5, 0, 1, 2, 3]"
            ]
          },
          "metadata": {},
          "execution_count": 8
        }
      ]
    },
    {
      "cell_type": "markdown",
      "source": [
        "# 12. Valid Parentheses (#20)"
      ],
      "metadata": {
        "id": "yMGCoU8hnN7g"
      }
    },
    {
      "cell_type": "code",
      "source": [
        "def isvalid(s):\n",
        "  stack=[]\n",
        "  for c in s:\n",
        "    if c in '({[':\n",
        "      stack.append(c)\n",
        "    else:\n",
        "      if not stack or \\\n",
        "      (c==')'and stack[-1]!='(')or \\\n",
        "      (c=='}' and stack[-1]!='{')or \\\n",
        "      (c==']' and stack[-1]!='['):\n",
        "            return False\n",
        "      stack.pop()\n",
        "  return not stack\n",
        "\n",
        "s = \"([])\"\n",
        "isvalid(s)\n",
        "\n"
      ],
      "metadata": {
        "colab": {
          "base_uri": "https://localhost:8080/"
        },
        "id": "8mgiQ8qJkUM9",
        "outputId": "d0e4cc20-0be7-448e-dbc7-fd82f31d3ba5"
      },
      "execution_count": 13,
      "outputs": [
        {
          "output_type": "execute_result",
          "data": {
            "text/plain": [
              "True"
            ]
          },
          "metadata": {},
          "execution_count": 13
        }
      ]
    },
    {
      "cell_type": "code",
      "source": [],
      "metadata": {
        "id": "KfMFJ4FUpCc3"
      },
      "execution_count": null,
      "outputs": []
    }
  ]
}